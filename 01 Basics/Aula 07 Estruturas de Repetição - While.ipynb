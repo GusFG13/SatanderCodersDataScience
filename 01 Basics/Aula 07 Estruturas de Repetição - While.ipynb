{
 "cells": [
  {
   "cell_type": "code",
   "execution_count": 1,
   "id": "5ec28eaf",
   "metadata": {},
   "outputs": [
    {
     "name": "stdout",
     "output_type": "stream",
     "text": [
      "1  item limpo\n",
      "2  itens limpos\n",
      "3  itens limpos\n",
      "4  itens limpos\n",
      "5  itens limpos\n",
      "6  itens limpos\n",
      "7  itens limpos\n",
      "8  itens limpos\n",
      "9  itens limpos\n",
      "10  itens limpos\n",
      "Fim da repetição do bloco while\n"
     ]
    }
   ],
   "source": [
    "contador = 0\n",
    "\n",
    "while contador < 10:\n",
    "    contador = contador + 1\n",
    "    if contador == 1:\n",
    "        print(contador, \" item limpo\")\n",
    "    else:\n",
    "        print(contador, \" itens limpos\")\n",
    "print(\"Fim da repetição do bloco while\")"
   ]
  },
  {
   "cell_type": "code",
   "execution_count": 3,
   "id": "7b18f4ad",
   "metadata": {},
   "outputs": [
    {
     "name": "stdout",
     "output_type": "stream",
     "text": [
      "1  item limpo\n",
      "2  itens limpos\n",
      "3  itens limpos\n",
      "4  itens limpos\n",
      "5  itens limpos\n",
      "6  itens limpos\n",
      "7  itens limpos\n",
      "8  itens limpos\n",
      "9  itens limpos\n",
      "10  itens limpos\n",
      "Fim da repetição do bloco while\n"
     ]
    }
   ],
   "source": [
    "contador = 0\n",
    "\n",
    "while True:\n",
    "    if contador < 10:\n",
    "        contador = contador + 1\n",
    "        if contador == 1:\n",
    "            print(contador, \" item limpo\")\n",
    "        else:\n",
    "            print(contador, \" itens limpos\")\n",
    "    else:\n",
    "        break\n",
    "print(\"Fim da repetição do bloco while\")"
   ]
  },
  {
   "cell_type": "code",
   "execution_count": 4,
   "id": "ce13a046",
   "metadata": {},
   "outputs": [
    {
     "name": "stdout",
     "output_type": "stream",
     "text": [
      "Digite a sua senha: dsds\n",
      "Senha inválida.Tente novamentesada\n",
      "Senha inválida.Tente novamenteasdas\n",
      "Senha inválida.Tente novamenteLetscode\n",
      "Senha inválida.Tente novamenteLetsCode\n",
      "Acesso permitido\n"
     ]
    }
   ],
   "source": [
    "texto = input(\"Digite a sua senha: \")\n",
    "\n",
    "while texto != \"LetsCode\":\n",
    "    texto = input(\"Senha inválida.Tente novamente\")\n",
    "\n",
    "print(\"Acesso permitido\")"
   ]
  },
  {
   "cell_type": "code",
   "execution_count": 5,
   "id": "28a4215e",
   "metadata": {},
   "outputs": [
    {
     "name": "stdout",
     "output_type": "stream",
     "text": [
      "2  itens limpos\n",
      "3  itens limpos\n",
      "4  itens limpos\n",
      "5  itens limpos\n",
      "6  itens limpos\n",
      "7  itens limpos\n",
      "8  itens limpos\n",
      "9  itens limpos\n",
      "10  itens limpos\n",
      "Fim da repetição do bloco while\n"
     ]
    }
   ],
   "source": [
    "contador = 0\n",
    "\n",
    "while contador < 10:\n",
    "    contador = contador + 1\n",
    "    if contador == 1:\n",
    "        continue\n",
    "    print(contador, \" itens limpos\")\n",
    "print(\"Fim da repetição do bloco while\")"
   ]
  }
 ],
 "metadata": {
  "kernelspec": {
   "display_name": "Python 3 (ipykernel)",
   "language": "python",
   "name": "python3"
  },
  "language_info": {
   "codemirror_mode": {
    "name": "ipython",
    "version": 3
   },
   "file_extension": ".py",
   "mimetype": "text/x-python",
   "name": "python",
   "nbconvert_exporter": "python",
   "pygments_lexer": "ipython3",
   "version": "3.9.12"
  }
 },
 "nbformat": 4,
 "nbformat_minor": 5
}
