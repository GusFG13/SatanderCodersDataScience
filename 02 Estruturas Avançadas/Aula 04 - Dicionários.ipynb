{
 "cells": [
  {
   "cell_type": "code",
   "execution_count": 1,
   "id": "573c378b",
   "metadata": {},
   "outputs": [],
   "source": [
    "dados_cidades = {\n",
    "    \"nome\":\"São Paulo\",\n",
    "    \"estado\":\"São Paulo\",\n",
    "    \"area_km2\":1521,\n",
    "    \"populacao_milhoes\":12.18\n",
    "}"
   ]
  },
  {
   "cell_type": "code",
   "execution_count": 2,
   "id": "a480f54f",
   "metadata": {},
   "outputs": [
    {
     "name": "stdout",
     "output_type": "stream",
     "text": [
      "<class 'dict'>\n"
     ]
    }
   ],
   "source": [
    "print(type(dados_cidades))"
   ]
  },
  {
   "cell_type": "code",
   "execution_count": 3,
   "id": "7bf26e54",
   "metadata": {},
   "outputs": [
    {
     "name": "stdout",
     "output_type": "stream",
     "text": [
      "{'nome': 'São Paulo', 'estado': 'São Paulo', 'area_km2': 1521, 'populacao_milhoes': 12.18}\n"
     ]
    }
   ],
   "source": [
    "print(dados_cidades)"
   ]
  },
  {
   "cell_type": "code",
   "execution_count": 8,
   "id": "3b055b7e",
   "metadata": {},
   "outputs": [],
   "source": [
    "dados_cidades[\"pais\"] = \"Brasil\""
   ]
  },
  {
   "cell_type": "code",
   "execution_count": 9,
   "id": "63d17f7b",
   "metadata": {},
   "outputs": [
    {
     "name": "stdout",
     "output_type": "stream",
     "text": [
      "{'nome': 'São Paulo', 'estado': 'São Paulo', 'area_km2': 1521, 'populacao_milhoes': 12.18, 'pais': 'Brasil'}\n"
     ]
    }
   ],
   "source": [
    "print(dados_cidades)"
   ]
  },
  {
   "cell_type": "code",
   "execution_count": 10,
   "id": "00835806",
   "metadata": {},
   "outputs": [
    {
     "name": "stdout",
     "output_type": "stream",
     "text": [
      "São Paulo\n"
     ]
    }
   ],
   "source": [
    "print(dados_cidades[\"nome\"])"
   ]
  },
  {
   "cell_type": "code",
   "execution_count": 11,
   "id": "8e3df7b9",
   "metadata": {},
   "outputs": [],
   "source": [
    "dados_cidades[\"area_km2\"] = 1500"
   ]
  },
  {
   "cell_type": "code",
   "execution_count": 12,
   "id": "c89a320b",
   "metadata": {},
   "outputs": [
    {
     "name": "stdout",
     "output_type": "stream",
     "text": [
      "{'nome': 'São Paulo', 'estado': 'São Paulo', 'area_km2': 1500, 'populacao_milhoes': 12.18, 'pais': 'Brasil'}\n"
     ]
    }
   ],
   "source": [
    "print(dados_cidades)"
   ]
  },
  {
   "cell_type": "code",
   "execution_count": 13,
   "id": "b642e9c8",
   "metadata": {},
   "outputs": [],
   "source": [
    "dados_cidades_2 = dados_cidades"
   ]
  },
  {
   "cell_type": "code",
   "execution_count": 15,
   "id": "a7f0f544",
   "metadata": {},
   "outputs": [],
   "source": [
    "dados_cidades_2[\"nome\"] = \"Santos\""
   ]
  },
  {
   "cell_type": "code",
   "execution_count": 16,
   "id": "f780f67e",
   "metadata": {},
   "outputs": [
    {
     "name": "stdout",
     "output_type": "stream",
     "text": [
      "{'nome': 'Santos', 'estado': 'São Paulo', 'area_km2': 1500, 'populacao_milhoes': 12.18, 'pais': 'Brasil'}\n"
     ]
    }
   ],
   "source": [
    "print(dados_cidades)"
   ]
  },
  {
   "cell_type": "code",
   "execution_count": 17,
   "id": "498aa38b",
   "metadata": {},
   "outputs": [],
   "source": [
    "dados_cidades_3 = dados_cidades.copy()"
   ]
  },
  {
   "cell_type": "code",
   "execution_count": 18,
   "id": "caf60f7f",
   "metadata": {},
   "outputs": [],
   "source": [
    "dados_cidades_3[\"estado\"] = \"Rio de Janeiro\""
   ]
  },
  {
   "cell_type": "code",
   "execution_count": 19,
   "id": "b2fc22ec",
   "metadata": {},
   "outputs": [
    {
     "name": "stdout",
     "output_type": "stream",
     "text": [
      "{'nome': 'Santos', 'estado': 'São Paulo', 'area_km2': 1500, 'populacao_milhoes': 12.18, 'pais': 'Brasil'}\n"
     ]
    }
   ],
   "source": [
    "print(dados_cidades)"
   ]
  },
  {
   "cell_type": "code",
   "execution_count": 20,
   "id": "25b89543",
   "metadata": {},
   "outputs": [
    {
     "name": "stdout",
     "output_type": "stream",
     "text": [
      "{'nome': 'Santos', 'estado': 'Rio de Janeiro', 'area_km2': 1500, 'populacao_milhoes': 12.18, 'pais': 'Brasil'}\n"
     ]
    }
   ],
   "source": [
    "print(dados_cidades_3)"
   ]
  },
  {
   "cell_type": "code",
   "execution_count": 22,
   "id": "6ea92183",
   "metadata": {},
   "outputs": [
    {
     "name": "stdout",
     "output_type": "stream",
     "text": [
      "{'nome': 'Santos', 'estado': 'São Paulo', 'area_km2': 1500, 'populacao_milhoes': 15, 'pais': 'Brasil', 'fundacao': '25/01/1554'}\n"
     ]
    }
   ],
   "source": [
    "novos_dados = {\n",
    "    \"populacao_milhoes\":15,\n",
    "    \"fundacao\":\"25/01/1554\"\n",
    "}\n",
    "\n",
    "dados_cidades.update(novos_dados)\n",
    "print(dados_cidades)"
   ]
  },
  {
   "cell_type": "code",
   "execution_count": 23,
   "id": "14a2c445",
   "metadata": {},
   "outputs": [
    {
     "ename": "KeyError",
     "evalue": "'prefeito'",
     "output_type": "error",
     "traceback": [
      "\u001b[1;31m---------------------------------------------------------------------------\u001b[0m",
      "\u001b[1;31mKeyError\u001b[0m                                  Traceback (most recent call last)",
      "Input \u001b[1;32mIn [23]\u001b[0m, in \u001b[0;36m<cell line: 1>\u001b[1;34m()\u001b[0m\n\u001b[1;32m----> 1\u001b[0m \u001b[43mdados_cidades\u001b[49m\u001b[43m[\u001b[49m\u001b[38;5;124;43m\"\u001b[39;49m\u001b[38;5;124;43mprefeito\u001b[39;49m\u001b[38;5;124;43m\"\u001b[39;49m\u001b[43m]\u001b[49m\n",
      "\u001b[1;31mKeyError\u001b[0m: 'prefeito'"
     ]
    }
   ],
   "source": [
    "dados_cidades[\"prefeito\"]"
   ]
  },
  {
   "cell_type": "code",
   "execution_count": 24,
   "id": "02958c4c",
   "metadata": {},
   "outputs": [
    {
     "name": "stdout",
     "output_type": "stream",
     "text": [
      "None\n"
     ]
    }
   ],
   "source": [
    "print(dados_cidades.get(\"prefeito\"))"
   ]
  },
  {
   "cell_type": "code",
   "execution_count": 26,
   "id": "b756b04f",
   "metadata": {},
   "outputs": [
    {
     "name": "stdout",
     "output_type": "stream",
     "text": [
      "dict_keys(['nome', 'estado', 'area_km2', 'populacao_milhoes', 'pais', 'fundacao'])\n",
      "----\n",
      "dict_values(['Santos', 'São Paulo', 1500, 15, 'Brasil', '25/01/1554'])\n",
      "----\n",
      "dict_items([('nome', 'Santos'), ('estado', 'São Paulo'), ('area_km2', 1500), ('populacao_milhoes', 15), ('pais', 'Brasil'), ('fundacao', '25/01/1554')])\n"
     ]
    }
   ],
   "source": [
    "print(dados_cidades.keys()) # retorna uma lista de chaves de um dicionário\n",
    "print(\"----\")\n",
    "print(dados_cidades.values()) # retorna uma lista de valores de um dicionário\n",
    "print(\"----\")\n",
    "print(dados_cidades.items()) # retorna uma lista de tuplas (chave,valor) de um dicionário"
   ]
  },
  {
   "cell_type": "code",
   "execution_count": null,
   "id": "12d57d7e",
   "metadata": {},
   "outputs": [],
   "source": []
  }
 ],
 "metadata": {
  "kernelspec": {
   "display_name": "Python 3 (ipykernel)",
   "language": "python",
   "name": "python3"
  },
  "language_info": {
   "codemirror_mode": {
    "name": "ipython",
    "version": 3
   },
   "file_extension": ".py",
   "mimetype": "text/x-python",
   "name": "python",
   "nbconvert_exporter": "python",
   "pygments_lexer": "ipython3",
   "version": "3.9.12"
  }
 },
 "nbformat": 4,
 "nbformat_minor": 5
}
