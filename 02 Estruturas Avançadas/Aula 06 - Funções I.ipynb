{
 "cells": [
  {
   "cell_type": "code",
   "execution_count": 1,
   "id": "0259da61",
   "metadata": {},
   "outputs": [],
   "source": [
    "def hello():\n",
    "    print(\"Olá, mundo\")"
   ]
  },
  {
   "cell_type": "code",
   "execution_count": 2,
   "id": "1154903e",
   "metadata": {},
   "outputs": [
    {
     "name": "stdout",
     "output_type": "stream",
     "text": [
      "Olá, mundo\n"
     ]
    }
   ],
   "source": [
    "hello()"
   ]
  },
  {
   "cell_type": "code",
   "execution_count": 3,
   "id": "e07b3688",
   "metadata": {},
   "outputs": [],
   "source": [
    "def calcula_media(valor1, valor2, valor3):\n",
    "    soma = valor1 + valor2 + valor3\n",
    "    media = soma / 3\n",
    "    return media"
   ]
  },
  {
   "cell_type": "code",
   "execution_count": 6,
   "id": "58d4a272",
   "metadata": {},
   "outputs": [
    {
     "name": "stdout",
     "output_type": "stream",
     "text": [
      "9.0\n"
     ]
    }
   ],
   "source": [
    "resultado = calcula_media(9,10,8)\n",
    "print(resultado)"
   ]
  },
  {
   "cell_type": "code",
   "execution_count": 7,
   "id": "4bb365d1",
   "metadata": {},
   "outputs": [
    {
     "name": "stdout",
     "output_type": "stream",
     "text": [
      "9.333333333333334\n"
     ]
    }
   ],
   "source": [
    "resultado2 = calcula_media(valor1=9, valor2=10,valor3=9)\n",
    "print(resultado2)"
   ]
  },
  {
   "cell_type": "code",
   "execution_count": 9,
   "id": "c8cbf745",
   "metadata": {},
   "outputs": [
    {
     "name": "stdout",
     "output_type": "stream",
     "text": [
      "Olá , Pietro\n"
     ]
    }
   ],
   "source": [
    "print(\"Olá\", end=\" \")\n",
    "print(\", Pietro\")"
   ]
  },
  {
   "cell_type": "code",
   "execution_count": 10,
   "id": "3d5b871e",
   "metadata": {},
   "outputs": [],
   "source": [
    "def calcula_media(valor1=0,valor2=0,valor3=0):\n",
    "    soma = valor1 + valor2 + valor3\n",
    "    media = soma / 3\n",
    "    return media    "
   ]
  },
  {
   "cell_type": "code",
   "execution_count": 12,
   "id": "e05ef889",
   "metadata": {},
   "outputs": [
    {
     "name": "stdout",
     "output_type": "stream",
     "text": [
      "0.0\n"
     ]
    }
   ],
   "source": [
    "resultado = calcula_media()\n",
    "print(resultado)"
   ]
  },
  {
   "cell_type": "code",
   "execution_count": null,
   "id": "fc527c65",
   "metadata": {},
   "outputs": [],
   "source": []
  }
 ],
 "metadata": {
  "kernelspec": {
   "display_name": "Python 3 (ipykernel)",
   "language": "python",
   "name": "python3"
  },
  "language_info": {
   "codemirror_mode": {
    "name": "ipython",
    "version": 3
   },
   "file_extension": ".py",
   "mimetype": "text/x-python",
   "name": "python",
   "nbconvert_exporter": "python",
   "pygments_lexer": "ipython3",
   "version": "3.9.12"
  }
 },
 "nbformat": 4,
 "nbformat_minor": 5
}
