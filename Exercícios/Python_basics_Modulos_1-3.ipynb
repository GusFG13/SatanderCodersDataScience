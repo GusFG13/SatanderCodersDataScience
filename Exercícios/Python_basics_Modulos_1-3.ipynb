{
 "cells": [
  {
   "cell_type": "markdown",
   "id": "5247f3c6",
   "metadata": {},
   "source": [
    "# Exercícios Módulo 1 - Python"
   ]
  },
  {
   "cell_type": "markdown",
   "id": "2ceb3d33",
   "metadata": {},
   "source": [
    "1. Faça um programa que peça um valor monetário e diminua-o em 15%. Seu programa deve imprimir a mensagem “O novo valor é [valor]”."
   ]
  },
  {
   "cell_type": "code",
   "execution_count": 4,
   "id": "5a2ed6e0",
   "metadata": {},
   "outputs": [
    {
     "name": "stdout",
     "output_type": "stream",
     "text": [
      "Insira um valor monetário (ou s para sair): ada3232\n",
      "Entrada inválida. Insira um valor monetário (ou s para sair): gdfgf44454\n",
      "Entrada inválida. Insira um valor monetário (ou s para sair): s\n"
     ]
    }
   ],
   "source": [
    "valor = input(\"Insira um valor monetário (ou s para sair): \")\n",
    "\n",
    "while True:\n",
    "    if valor.isnumeric():\n",
    "        valor = float(valor)\n",
    "        valor = valor * 0.85\n",
    "        print(f'O novo valor é {valor}')\n",
    "        break\n",
    "    else:\n",
    "        if valor == 's':\n",
    "            break\n",
    "        else:\n",
    "            valor = input(\"Entrada inválida. Insira um valor monetário (ou s para sair): \")\n",
    "\n"
   ]
  },
  {
   "cell_type": "markdown",
   "id": "f359382a",
   "metadata": {},
   "source": [
    "2. Faça um programa que leia a validade das informações:\n",
    "  a. Idade: entre 0 e 150;\n",
    "  b. Salário: maior que 0;\n",
    "  c. Sexo: M, F ou Outro;\n",
    "O programa deve imprimir uma mensagem de erro para cada informação inválida."
   ]
  },
  {
   "cell_type": "code",
   "execution_count": 11,
   "id": "22223b8b",
   "metadata": {},
   "outputs": [
    {
     "name": "stdout",
     "output_type": "stream",
     "text": [
      "Insira sua idade (entre 0 e 150): 343\n",
      "Entrada inválida. Insira sua idade (entre 0 e 150): 23\n",
      "Insira sua salário (maior que 0): 3432423423\n",
      "Insira seu gênero (M, F ou Outro): f\n",
      "Idade: 23\n",
      "Salário: 3432423423\n",
      "Gênero: F\n"
     ]
    }
   ],
   "source": [
    "idade = input(\"Insira sua idade (entre 0 e 150): \")\n",
    "while True:\n",
    "    if idade.isnumeric() and int(idade) >= 0 and int(idade) <= 150:\n",
    "        idade = int(idade)\n",
    "        break\n",
    "    else:\n",
    "        idade = input(\"Entrada inválida. Insira sua idade (entre 0 e 150): \")\n",
    "        \n",
    "salario = input(\"Insira sua salário (maior que 0): \")\n",
    "while True:\n",
    "    if salario.isnumeric() and int(salario) > 0:\n",
    "        salario = int(salario)\n",
    "        break\n",
    "    else:\n",
    "        salario = input(\"Entrada inválida. Insira sua salário (maior que 0): \")\n",
    "\n",
    "genero = input(\"Insira seu gênero (M, F ou Outro): \")\n",
    "genero = genero.lower()\n",
    "while True:\n",
    "    if genero == 'm' or genero == 'f' or genero == 'outro':\n",
    "        genero = genero.capitalize()\n",
    "        break\n",
    "    else:\n",
    "        genero = input(\"Entrada inválida. Insira seu gênero (M, F ou Outro): \")\n",
    "        \n",
    "print(f'Idade: {idade}\\nSalário: {salario}\\nGênero: {genero}')"
   ]
  },
  {
   "cell_type": "markdown",
   "id": "9e50efac",
   "metadata": {},
   "source": [
    "3. Vamos fazer um programa para verificar quem é o assassino de um crime. Para descobrir o assassino, a polícia faz um pequeno questionário com 5 perguntas onde a resposta só pode ser sim ou não:\n",
    "\n",
    "  a. Mora perto da vítima?\n",
    "  b. Já trabalhou com a vítima?\n",
    "  c. Telefonou para a vítima?\n",
    "  d. Esteve no local do crime?\n",
    "  e. Devia para a vítima?\n",
    "  \n",
    "Cada resposta sim dá um ponto para o suspeito. A polícia considera que os suspeitos com 5 pontos são os assassinos, com 4 a 3 pontos são cúmplices e 2 pontos são apenas suspeitos, necessitando outras investigações. Valores iguais ou abaixo de 1 são liberados."
   ]
  },
  {
   "cell_type": "code",
   "execution_count": 21,
   "id": "dec6570b",
   "metadata": {},
   "outputs": [
    {
     "name": "stdout",
     "output_type": "stream",
     "text": [
      "Por favor, responda s para Sim ou n para Não\n",
      "Mora perto da vítima?s\n",
      "Por favor, responda s para Sim ou n para Não\n",
      "Já trabalhou com a vítima?s\n",
      "Por favor, responda s para Sim ou n para Não\n",
      "Telefonou para a vítima?s\n",
      "Por favor, responda s para Sim ou n para Não\n",
      "Esteve no local do crime?s\n",
      "Por favor, responda s para Sim ou n para Não\n",
      "Devia para a vítima?s\n",
      "5 ponto(s). Suspeito é o assassino.\n"
     ]
    }
   ],
   "source": [
    "def resposta(pergunta):\n",
    "    while True:\n",
    "        print('Por favor, responda s para Sim ou n para Não')\n",
    "        resp = input(pergunta)\n",
    "        if resp in ['s', 'n']:\n",
    "            if resp == 's':\n",
    "                return 1\n",
    "            else:\n",
    "                return 0\n",
    "\n",
    "perguntas = ['Mora perto da vítima?','Já trabalhou com a vítima?','Telefonou para a vítima?','Esteve no local do crime?','Devia para a vítima?']\n",
    "pontos = 0\n",
    "\n",
    "for pergunta in perguntas:\n",
    "    pontos = pontos + resposta(pergunta)\n",
    "    \n",
    "if pontos <= 1:\n",
    "    print(f'{pontos} ponto(s). Suspeito inocente.')\n",
    "elif pontos == 2:\n",
    "    print(f'{pontos} ponto(s). Suspeito ainda necessita investigação.')\n",
    "elif pontos == 3 or pontos == 4:\n",
    "    print(f'{pontos} ponto(s). Suspeito provavelmente é cúmplice.')\n",
    "else:\n",
    "    print(f'{pontos} ponto(s). Suspeito é o assassino.')"
   ]
  },
  {
   "cell_type": "markdown",
   "id": "4fa8c2ca",
   "metadata": {},
   "source": [
    "4. Faça um programa que imprima a tabuada do 9 (de 9x1 a 9x10) usando loops."
   ]
  },
  {
   "cell_type": "code",
   "execution_count": 23,
   "id": "18dd895a",
   "metadata": {},
   "outputs": [
    {
     "name": "stdout",
     "output_type": "stream",
     "text": [
      "9 x 1 = 9\n",
      "9 x 2 = 18\n",
      "9 x 3 = 27\n",
      "9 x 4 = 36\n",
      "9 x 5 = 45\n",
      "9 x 6 = 54\n",
      "9 x 7 = 63\n",
      "9 x 8 = 72\n",
      "9 x 9 = 81\n",
      "9 x 10 = 90\n"
     ]
    }
   ],
   "source": [
    "for i in range(1,11):\n",
    "    print(f'9 x {i} = {9*i}')"
   ]
  },
  {
   "cell_type": "markdown",
   "id": "9dda5923",
   "metadata": {},
   "source": [
    "# Exercícios Módulo 2 - Python"
   ]
  },
  {
   "cell_type": "markdown",
   "id": "040523e9",
   "metadata": {},
   "source": [
    "1. Faça um programa que olhe todos os itens de uma lista e diga quantos deles são pares."
   ]
  },
  {
   "cell_type": "code",
   "execution_count": 28,
   "id": "d7fe3c52",
   "metadata": {},
   "outputs": [
    {
     "name": "stdout",
     "output_type": "stream",
     "text": [
      "A lista contém 4 elementos e 3 são pares.\n"
     ]
    }
   ],
   "source": [
    "conta_pares = 0\n",
    "#lista = [1,2,3,4,5,6,7,8,9,10]\n",
    "lista = [1,2,8,0]\n",
    "\n",
    "for x in lista:\n",
    "    if x % 2 == 0:\n",
    "        conta_pares = conta_pares + 1\n",
    "if conta_pares == 0:\n",
    "    print(f'A lista contém {len(lista)} elemento(s) e nenhum é par.')\n",
    "elif conta_pares == 1:\n",
    "    print(f'A lista contém {len(lista)} elemento(s) e apenas 1 é par.')\n",
    "else:\n",
    "    print(f'A lista contém {len(lista)} elementos e {conta_pares} são pares.')"
   ]
  },
  {
   "cell_type": "markdown",
   "id": "0b9a7f86",
   "metadata": {},
   "source": [
    "2. Faça um programa que peça para o usuário digitar uma palavra e imprima cada letra em uma linha."
   ]
  },
  {
   "cell_type": "code",
   "execution_count": 31,
   "id": "87e7f2bd",
   "metadata": {},
   "outputs": [
    {
     "name": "stdout",
     "output_type": "stream",
     "text": [
      "digite uma palavra: uma palavra\n",
      "u\n",
      "m\n",
      "a\n",
      " \n",
      "p\n",
      "a\n",
      "l\n",
      "a\n",
      "v\n",
      "r\n",
      "a\n"
     ]
    }
   ],
   "source": [
    "palavra = input('Digite uma palavra: ')\n",
    "for i in range(0,len(palavra)):\n",
    "    print(palavra[i])"
   ]
  },
  {
   "cell_type": "markdown",
   "id": "d49eee2f",
   "metadata": {},
   "source": [
    "3. Faça uma função que recebe duas listas e retorna a soma item a item dessas listas.\n",
    "Exemplo: Se a função receber as listas [1,4,3] e [3,5,1], então a função deve retornar [1+3, 4+5, 3+1] = [4, 9, 4]."
   ]
  },
  {
   "cell_type": "code",
   "execution_count": 29,
   "id": "2138bcfd",
   "metadata": {},
   "outputs": [
    {
     "name": "stdout",
     "output_type": "stream",
     "text": [
      "[4, 9, 4, 8, 11, 11, 13, 15]\n"
     ]
    }
   ],
   "source": [
    "def soma_listas(lista1, lista2):\n",
    "    lista3 = []\n",
    "    tamLista1 = len(lista1)\n",
    "    tamLista2 = len(lista2)\n",
    "    \n",
    "    if tamLista1 <= tamLista2:\n",
    "        n_elementos = len(lista1)\n",
    "    else:\n",
    "        n_elementos = len(lista2)\n",
    "        \n",
    "    for i in range(0,n_elementos):\n",
    "        lista3.append(lista1[i] + lista2[i])\n",
    "    \n",
    "    #caso as listas tenham tamanhos diferentes, completa a lista 3 com os elementos da lista maior\n",
    "    if tamLista1 > tamLista2:\n",
    "        for i in range(n_elementos,tamLista1):\n",
    "            lista3.append(lista1[i])\n",
    "    else:\n",
    "        for i in range(n_elementos,tamLista2):\n",
    "            lista3.append(lista2[i])\n",
    "            \n",
    "    return lista3\n",
    "\n",
    "lista1 = [1,4,3,3,4,5,6,7]\n",
    "lista2 = [3,5,1,5,7,6,7,8]\n",
    "\n",
    "print(soma_listas(lista1, lista2))"
   ]
  },
  {
   "cell_type": "markdown",
   "id": "ab79a484",
   "metadata": {},
   "source": [
    "4. Crie um dicionário cujas chaves são os meses do ano e os valores são a duração (em dias) de cada mês."
   ]
  },
  {
   "cell_type": "code",
   "execution_count": 52,
   "id": "27d20aac",
   "metadata": {},
   "outputs": [
    {
     "name": "stdout",
     "output_type": "stream",
     "text": [
      "{'Janeiro': 31, 'Fevereiro': 28, 'Março': 31, 'Abril': 30, 'Maio': 31, 'Junho': 30, 'Julho': 31, 'Agosto': 31, 'Setembro': 30, 'Outubro': 31, 'Novembro': 30, 'Dezembro': 31}\n"
     ]
    }
   ],
   "source": [
    "from calendar import monthrange\n",
    "import datetime\n",
    "import locale\n",
    "\n",
    "locale.setlocale(locale.LC_TIME, \"pt_BR\") \n",
    "\n",
    "ano = 2022\n",
    "dicDuracaoMes = {}\n",
    "\n",
    "for i in range(1,13):\n",
    "    nomeMes = datetime.datetime(ano, i, 1).strftime(\"%B\")\n",
    "    nomeMes = nomeMes.capitalize()\n",
    "    duracao = monthrange(ano, i)[1]\n",
    "    dicDuracaoMes[nomeMes] = duracao\n",
    "\n",
    "print(dicDuracaoMes)"
   ]
  },
  {
   "cell_type": "markdown",
   "id": "9a063ee3",
   "metadata": {},
   "source": [
    "5. Imprima as chaves seguidas dos seus valores para dicionário criado no exercício anterior.\n",
    "Exemplo:\n",
    "Janeiro - 31\n",
    "Fevereiro - 28\n",
    "Março - 31\n",
    "Etc..."
   ]
  },
  {
   "cell_type": "code",
   "execution_count": 53,
   "id": "4c41fd51",
   "metadata": {},
   "outputs": [
    {
     "name": "stdout",
     "output_type": "stream",
     "text": [
      "Janeiro - 31\n",
      "Fevereiro - 28\n",
      "Março - 31\n",
      "Abril - 30\n",
      "Maio - 31\n",
      "Junho - 30\n",
      "Julho - 31\n",
      "Agosto - 31\n",
      "Setembro - 30\n",
      "Outubro - 31\n",
      "Novembro - 30\n",
      "Dezembro - 31\n"
     ]
    }
   ],
   "source": [
    "for (key, value) in dicDuracaoMes.items():\n",
    "    print(f'{key} - {value}')"
   ]
  },
  {
   "cell_type": "markdown",
   "id": "c011a0af",
   "metadata": {},
   "source": [
    "# Exercícios Módulo 3 - Python"
   ]
  },
  {
   "cell_type": "markdown",
   "id": "58ed37c7",
   "metadata": {},
   "source": [
    "Para os exercícios 1 ao 3, você precisará do arquivo: alunos.csv. [Clique aqui](https://s3-sa-east-1.amazonaws.com/lcpi/0f8eacaa-25d5-462e-84f4-4937489552d4.csv) para baixá-lo (ao salvar, renomeie o arquivo)."
   ]
  },
  {
   "cell_type": "markdown",
   "id": "ec0a86aa",
   "metadata": {},
   "source": [
    "1 - Neste exercício você deve criar um programa que abra o arquivo \"alunos.csv\" e imprima o conteúdo do arquivo linha a linha. \n",
    "\n",
    "Note que esse é o primeiro exercício de uma sequência, então o seu código pode ser reaproveitado nos exercícios seguintes. Dito isso, a recomendação é usar a biblioteca CSV para ler o arquivo mesmo que não seja realmente necessário para esse primeiro item."
   ]
  },
  {
   "cell_type": "code",
   "execution_count": 1,
   "id": "ab4b845d",
   "metadata": {
    "scrolled": true
   },
   "outputs": [
    {
     "name": "stdout",
     "output_type": "stream",
     "text": [
      "['RA', 'Nome', 'Frequencia', 'Prova_1', 'Prova_2', 'Prova_3', 'Prova_4']\n",
      "['110201', 'Antonio Carlos', '20', '6.5', '8.5', '7', '6']\n",
      "['110212', 'Ana Beatriz', '20', '7', '7', '7', '8']\n",
      "['110218', 'Carlos Vernes', '17', '7', '7', '7', '7']\n",
      "['110307', 'Francisco Cunha', '20', '9', '8.5', '8.5', '10']\n",
      "['110275', 'Sandra Rosa', '15', '6.5', '7.5', '7', '7']\n",
      "['110281', 'Juliana Arruda', '18', '7.5', '7', '7.5', '8']\n",
      "['110301', 'Joao Galo', '20', '5', '6.5', '7', '5']\n",
      "['110263', 'José Valente', '20', '10', '10', '10', '10']\n",
      "['110271', 'Maria Ferreira', '19', '9.5', '8', '7', '10']\n",
      "['110236', 'Adriana Tavares', '20', '8', '8', '8', '8']\n"
     ]
    }
   ],
   "source": [
    "import csv\n",
    "\n",
    "with open('alunos.csv','r',encoding='utf-8') as arquivo_csv:\n",
    "    texto = csv.reader(arquivo_csv)\n",
    "    cabecalho = next(texto) \n",
    "    print(cabecalho)\n",
    "    for linha in texto:\n",
    "        print(linha)"
   ]
  },
  {
   "cell_type": "markdown",
   "id": "a27bf842",
   "metadata": {},
   "source": [
    "2 - Para o segundo exercício, você deve criar um programa que realize uma cópia do arquivo \"alunos.csv\". Essa cópia deve ser um arquivo chamado \"alunos_copia.csv\".\n",
    "\n",
    "Novamente, aqui você também não precisa utilizar a biblioteca CSV mas se usar, seu código pode ser reutilizado na próxima questão sem muitas modificações."
   ]
  },
  {
   "cell_type": "code",
   "execution_count": 4,
   "id": "9187d571",
   "metadata": {},
   "outputs": [],
   "source": [
    "import csv\n",
    "\n",
    "linhas = []\n",
    "\n",
    "with open('alunos.csv', 'r',encoding='utf-8') as csvfile:\n",
    "    texto = csv.reader(csvfile)\n",
    "    for linha in texto:\n",
    "        linhas.append(linha)\n",
    "        \n",
    "with open('alunos_copia.csv', 'w',encoding='utf-8', newline='') as csvfile:\n",
    "    writer = csv.writer(csvfile)\n",
    "    for linha in linhas:\n",
    "        writer.writerow(linha)"
   ]
  },
  {
   "cell_type": "markdown",
   "id": "969bf8ae",
   "metadata": {},
   "source": [
    "3 - Finalmente chegamos ao último exercício dessa sequência relacionada à manipulação de arquivos.\n",
    "\n",
    "Neste exercício você deve criar um novo arquivo chamado \"alunos_media.csv\". Esse novo arquivo é uma cópia de \"alunos.csv\" porém com uma coluna a mais chamada \"Média\" que vai abrigar os valores das médias das provas de cada aluno da lista.\n",
    "\n",
    "Se você utilizou a biblioteca CSV para realizar os dois primeiros exercícios, muito será reaproveitado aqui. A biblioteca CSV permite a interpretação de cada linha como listas, que são fáceis de manipular."
   ]
  },
  {
   "cell_type": "code",
   "execution_count": 1,
   "id": "03583d16",
   "metadata": {},
   "outputs": [
    {
     "name": "stdout",
     "output_type": "stream",
     "text": [
      "['RA', 'Nome', 'Frequencia', 'Prova_1', 'Prova_2', 'Prova_3', 'Prova_4', 'Média']\n",
      "['110201', 'Antonio Carlos', '20', '6.5', '8.5', '7', '6', '7.0']\n",
      "['110212', 'Ana Beatriz', '20', '7', '7', '7', '8', '7.25']\n",
      "['110218', 'Carlos Vernes', '17', '7', '7', '7', '7', '7.0']\n",
      "['110307', 'Francisco Cunha', '20', '9', '8.5', '8.5', '10', '9.0']\n",
      "['110275', 'Sandra Rosa', '15', '6.5', '7.5', '7', '7', '7.0']\n",
      "['110281', 'Juliana Arruda', '18', '7.5', '7', '7.5', '8', '7.5']\n",
      "['110301', 'Joao Galo', '20', '5', '6.5', '7', '5', '5.875']\n",
      "['110263', 'José Valente', '20', '10', '10', '10', '10', '10.0']\n",
      "['110271', 'Maria Ferreira', '19', '9.5', '8', '7', '10', '8.625']\n",
      "['110236', 'Adriana Tavares', '20', '8', '8', '8', '8', '8.0']\n"
     ]
    }
   ],
   "source": [
    "import csv\n",
    "\n",
    "linhas = []\n",
    "\n",
    "with open('alunos.csv', 'r',encoding='utf-8') as csvfile:\n",
    "    texto = csv.reader(csvfile)\n",
    "    cabecalho = next(texto) \n",
    "    cabecalho.append('Média')\n",
    "    linhas.append(cabecalho)\n",
    "    \n",
    "    for linha in texto: \n",
    "        linhaComMedia = linha.copy()\n",
    "        linhaComMedia.append((float(linha[3])+float(linha[4])+float(linha[5])+float(linha[6]))/4)\n",
    "        linhas.append(linhaComMedia)\n",
    "        \n",
    "with open('alunos_media.csv', 'w',encoding='utf-8', newline='') as csvfile:\n",
    "    writer = csv.writer(csvfile)\n",
    "    for linha in linhas:\n",
    "        writer.writerow(linha)\n",
    "        \n",
    "with open('alunos_media.csv','r',encoding='utf-8') as csvfile:\n",
    "    texto = csv.reader(csvfile)\n",
    "    for linha in texto:\n",
    "        print(linha)"
   ]
  },
  {
   "cell_type": "markdown",
   "id": "b42bb1da",
   "metadata": {},
   "source": [
    "4 - Você conhece Star Wars? Se trata, obviamente, da famosa saga espacial criada por George Lucas em 1977 e que deu origem a símbolos do cinema e da cultura pop com o imponente vilão Darth Vader ou o simpático robô R2-D2. A ideia desse exercício é justamente extrair informações do personagem Darth Vader através de uma API de Star Wars chamada SWAPI.\n",
    "\n",
    "Utilize a URL \"https://swapi.dev/api/people/4/\" para fazer a requisição dos dados de Darth Vader e extraia as informações \"name\" (nome), \"height\" (altura), \"mass\" (massa) e \"birth_year\" (ano de nascimento) e imprima cada dado em uma linha.\n",
    "\n",
    "Dica: caso não se lembre de como fazer isso, assista novamente a aula sobre API porque o exemplo da aula pode te ajudar."
   ]
  },
  {
   "cell_type": "code",
   "execution_count": 11,
   "id": "883c4913",
   "metadata": {},
   "outputs": [
    {
     "name": "stdout",
     "output_type": "stream",
     "text": [
      "Nome: Darth Vader\n",
      "Altura: 2.02m\n",
      "Peso: 136kg\n",
      "Ano de nascimento: 41.9BBY\n"
     ]
    }
   ],
   "source": [
    "import requests\n",
    "\n",
    "url = 'https://swapi.dev/api/people/4/'\n",
    "\n",
    "req = requests.get(url)\n",
    "\n",
    "if req.status_code == 200:\n",
    "    dados = req.json()\n",
    "    #print(dados)\n",
    "    print(f'Nome: {dados[\"name\"]}')\n",
    "    print(f'Altura: {(int(dados[\"height\"]) / 100):.2f}m')\n",
    "    print(f'Peso: {dados[\"mass\"]}kg')\n",
    "    print(f'Ano de nascimento: {dados[\"birth_year\"]}')\n",
    "    print\n",
    "else:\n",
    "    print('Houve um erro na aquisição dos dados requisitados.')"
   ]
  },
  {
   "cell_type": "markdown",
   "id": "92e3e9a2",
   "metadata": {},
   "source": [
    "5 - Em 2019 surgiram os primeiros casos de COVID-19 que se alastrou pelo mundo resultando numa pandemia. A proposta deste exercício é utilizar uma API com informações de COVID-19 do mundo todo desde o início da proliferação e descobrir que dia o Brasil confirmou o primeiro caso de Coronavírus.\n",
    "\n",
    "Para fazer isso, utilize a URL \"https://api.covid19api.com/country/brazil\" em seu código. Ela retorna uma lista de dicionários, onde cada dicionário traz informações através das chaves:\n",
    "\n",
    "\"ID\", \"Country\", \"CountryCode\", \"Province\", \"City\", \"CityCode\",\"Lat\",\"Lon\",\"Confirmed\",\"Deaths\", \"Recovered\", \"Active\" e \"Date\".\n",
    "\n",
    "Utilize essas informações e retorne a data em que o Brasil confirmou o primeiro caso de COVID."
   ]
  },
  {
   "cell_type": "code",
   "execution_count": 21,
   "id": "2940858c",
   "metadata": {},
   "outputs": [
    {
     "name": "stdout",
     "output_type": "stream",
     "text": [
      "O primeiro caso confirmado de COVID no Brasil foi no dia 26/02/2020.\n"
     ]
    }
   ],
   "source": [
    "import requests as r\n",
    "import datetime as dt\n",
    "\n",
    "url = 'https://api.covid19api.com/country/brazil'\n",
    "resp = r.get(url)\n",
    "\n",
    "if resp.status_code == 200:\n",
    "    raw_data = resp.json()\n",
    "    #print(raw_data)\n",
    "    for obs in raw_data:\n",
    "        if obs['Confirmed'] > 0:\n",
    "            dia_primeiro_confir = obs['Date']\n",
    "            dia_primeiro_confir = dia_primeiro_confir[:10]\n",
    "            dia_primeiro_confir = dt.datetime.strptime(dia_primeiro_confir, '%Y-%m-%d')\n",
    "            print(f'O primeiro caso confirmado de COVID no Brasil foi no dia {dia_primeiro_confir.strftime(\"%d/%m/%Y\")}.')\n",
    "            break\n",
    "else:\n",
    "    print('Houve um erro na aquisição dos dados requisitados.')"
   ]
  }
 ],
 "metadata": {
  "kernelspec": {
   "display_name": "Python 3 (ipykernel)",
   "language": "python",
   "name": "python3"
  },
  "language_info": {
   "codemirror_mode": {
    "name": "ipython",
    "version": 3
   },
   "file_extension": ".py",
   "mimetype": "text/x-python",
   "name": "python",
   "nbconvert_exporter": "python",
   "pygments_lexer": "ipython3",
   "version": "3.9.12"
  }
 },
 "nbformat": 4,
 "nbformat_minor": 5
}
